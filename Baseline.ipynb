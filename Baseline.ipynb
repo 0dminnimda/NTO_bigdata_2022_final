{
    "cells": [
     {
      "cell_type": "code",
      "execution_count": 1,
      "metadata": {
       "scrolled": false
      },
      "outputs": [],
      "source": [
       "import numpy as np\n",
       "import pandas as pd\n",
       "from statsmodels.tsa.ar_model import AutoReg\n",
       "import datetime as dt\n",
       "from matplotlib import pyplot as plt"
      ]
     },
     {
      "cell_type": "code",
      "execution_count": 2,
      "metadata": {
       "scrolled": false
      },
      "outputs": [
       {
        "data": {
         "text/html": [
          "<div>\n",
          "<style scoped>\n",
          "    .dataframe tbody tr th:only-of-type {\n",
          "        vertical-align: middle;\n",
          "    }\n",
          "\n",
          "    .dataframe tbody tr th {\n",
          "        vertical-align: top;\n",
          "    }\n",
          "\n",
          "    .dataframe thead th {\n",
          "        text-align: right;\n",
          "    }\n",
          "</style>\n",
          "<table border=\"1\" class=\"dataframe\">\n",
          "  <thead>\n",
          "    <tr style=\"text-align: right;\">\n",
          "      <th></th>\n",
          "      <th>datetime</th>\n",
          "      <th>total</th>\n",
          "    </tr>\n",
          "  </thead>\n",
          "  <tbody>\n",
          "    <tr>\n",
          "      <th>0</th>\n",
          "      <td>01.01.2005 00:00:00</td>\n",
          "      <td>?</td>\n",
          "    </tr>\n",
          "    <tr>\n",
          "      <th>1</th>\n",
          "      <td>01.01.2005 01:00:00</td>\n",
          "      <td>154140</td>\n",
          "    </tr>\n",
          "    <tr>\n",
          "      <th>2</th>\n",
          "      <td>01.01.2005 02:00:00</td>\n",
          "      <td>157818</td>\n",
          "    </tr>\n",
          "    <tr>\n",
          "      <th>3</th>\n",
          "      <td>01.01.2005 03:00:00</td>\n",
          "      <td>149311</td>\n",
          "    </tr>\n",
          "    <tr>\n",
          "      <th>4</th>\n",
          "      <td>01.01.2005 04:00:00</td>\n",
          "      <td>138282</td>\n",
          "    </tr>\n",
          "    <tr>\n",
          "      <th>...</th>\n",
          "      <td>...</td>\n",
          "      <td>...</td>\n",
          "    </tr>\n",
          "    <tr>\n",
          "      <th>95</th>\n",
          "      <td>04.01.2005 23:00:00</td>\n",
          "      <td>208885</td>\n",
          "    </tr>\n",
          "    <tr>\n",
          "      <th>96</th>\n",
          "      <td>05.01.2005 00:00:00</td>\n",
          "      <td>181284</td>\n",
          "    </tr>\n",
          "    <tr>\n",
          "      <th>97</th>\n",
          "      <td>05.01.2005 01:00:00</td>\n",
          "      <td>146594</td>\n",
          "    </tr>\n",
          "    <tr>\n",
          "      <th>98</th>\n",
          "      <td>05.01.2005 02:00:00</td>\n",
          "      <td>129392</td>\n",
          "    </tr>\n",
          "    <tr>\n",
          "      <th>99</th>\n",
          "      <td>05.01.2005 03:00:00</td>\n",
          "      <td>118012</td>\n",
          "    </tr>\n",
          "  </tbody>\n",
          "</table>\n",
          "<p>100 rows × 2 columns</p>\n",
          "</div>"
         ],
         "text/plain": [
          "               datetime   total\n",
          "0   01.01.2005 00:00:00       ?\n",
          "1   01.01.2005 01:00:00  154140\n",
          "2   01.01.2005 02:00:00  157818\n",
          "3   01.01.2005 03:00:00  149311\n",
          "4   01.01.2005 04:00:00  138282\n",
          "..                  ...     ...\n",
          "95  04.01.2005 23:00:00  208885\n",
          "96  05.01.2005 00:00:00  181284\n",
          "97  05.01.2005 01:00:00  146594\n",
          "98  05.01.2005 02:00:00  129392\n",
          "99  05.01.2005 03:00:00  118012\n",
          "\n",
          "[100 rows x 2 columns]"
         ]
        },
        "execution_count": 2,
        "metadata": {},
        "output_type": "execute_result"
       }
      ],
      "source": [
       "train = pd.read_csv(\"train.csv\")\n",
       "train.head(100)"
      ]
     },
     {
      "cell_type": "code",
      "execution_count": 3,
      "metadata": {},
      "outputs": [],
      "source": [
       "time_format = \"%d.%m.%Y %H:%M:%S\"\n",
       "train[\"datetime\"] = [dt.datetime.strptime(s, time_format) for s in train[\"datetime\"]]"
      ]
     },
     {
      "cell_type": "code",
      "execution_count": 4,
      "metadata": {},
      "outputs": [],
      "source": [
       "median_total = np.median(train[\"total\"][train[\"total\"] != \"?\"].astype(np.int64))"
      ]
     },
     {
      "cell_type": "code",
      "execution_count": 5,
      "metadata": {
       "scrolled": false
      },
      "outputs": [
       {
        "data": {
         "text/html": [
          "<div>\n",
          "<style scoped>\n",
          "    .dataframe tbody tr th:only-of-type {\n",
          "        vertical-align: middle;\n",
          "    }\n",
          "\n",
          "    .dataframe tbody tr th {\n",
          "        vertical-align: top;\n",
          "    }\n",
          "\n",
          "    .dataframe thead th {\n",
          "        text-align: right;\n",
          "    }\n",
          "</style>\n",
          "<table border=\"1\" class=\"dataframe\">\n",
          "  <thead>\n",
          "    <tr style=\"text-align: right;\">\n",
          "      <th></th>\n",
          "      <th>datetime</th>\n",
          "      <th>total</th>\n",
          "    </tr>\n",
          "  </thead>\n",
          "  <tbody>\n",
          "    <tr>\n",
          "      <th>0</th>\n",
          "      <td>2005-01-01 00:00:00</td>\n",
          "      <td>195441.5</td>\n",
          "    </tr>\n",
          "    <tr>\n",
          "      <th>1</th>\n",
          "      <td>2005-01-01 01:00:00</td>\n",
          "      <td>154140</td>\n",
          "    </tr>\n",
          "    <tr>\n",
          "      <th>2</th>\n",
          "      <td>2005-01-01 02:00:00</td>\n",
          "      <td>157818</td>\n",
          "    </tr>\n",
          "    <tr>\n",
          "      <th>3</th>\n",
          "      <td>2005-01-01 03:00:00</td>\n",
          "      <td>149311</td>\n",
          "    </tr>\n",
          "    <tr>\n",
          "      <th>4</th>\n",
          "      <td>2005-01-01 04:00:00</td>\n",
          "      <td>138282</td>\n",
          "    </tr>\n",
          "    <tr>\n",
          "      <th>...</th>\n",
          "      <td>...</td>\n",
          "      <td>...</td>\n",
          "    </tr>\n",
          "    <tr>\n",
          "      <th>35059</th>\n",
          "      <td>2008-12-31 19:00:00</td>\n",
          "      <td>249376</td>\n",
          "    </tr>\n",
          "    <tr>\n",
          "      <th>35060</th>\n",
          "      <td>2008-12-31 20:00:00</td>\n",
          "      <td>246511</td>\n",
          "    </tr>\n",
          "    <tr>\n",
          "      <th>35061</th>\n",
          "      <td>2008-12-31 21:00:00</td>\n",
          "      <td>226469</td>\n",
          "    </tr>\n",
          "    <tr>\n",
          "      <th>35062</th>\n",
          "      <td>2008-12-31 22:00:00</td>\n",
          "      <td>199907</td>\n",
          "    </tr>\n",
          "    <tr>\n",
          "      <th>35063</th>\n",
          "      <td>2008-12-31 23:00:00</td>\n",
          "      <td>151086</td>\n",
          "    </tr>\n",
          "  </tbody>\n",
          "</table>\n",
          "<p>35064 rows × 2 columns</p>\n",
          "</div>"
         ],
         "text/plain": [
          "                 datetime     total\n",
          "0     2005-01-01 00:00:00  195441.5\n",
          "1     2005-01-01 01:00:00    154140\n",
          "2     2005-01-01 02:00:00    157818\n",
          "3     2005-01-01 03:00:00    149311\n",
          "4     2005-01-01 04:00:00    138282\n",
          "...                   ...       ...\n",
          "35059 2008-12-31 19:00:00    249376\n",
          "35060 2008-12-31 20:00:00    246511\n",
          "35061 2008-12-31 21:00:00    226469\n",
          "35062 2008-12-31 22:00:00    199907\n",
          "35063 2008-12-31 23:00:00    151086\n",
          "\n",
          "[35064 rows x 2 columns]"
         ]
        },
        "execution_count": 5,
        "metadata": {},
        "output_type": "execute_result"
       }
      ],
      "source": [
       "train[\"total\"].replace(\"?\", median_total, inplace=True)\n",
       "train"
      ]
     },
     {
      "cell_type": "code",
      "execution_count": 5,
      "metadata": {
       "scrolled": false
      },
      "outputs": [],
      "source": [
       "series = train.total.values"
      ]
     },
     {
      "cell_type": "code",
      "execution_count": 6,
      "metadata": {
       "scrolled": false
      },
      "outputs": [],
      "source": [
       "ar = AutoReg(series, lags=168).fit()"
      ]
     },
     {
      "cell_type": "code",
      "execution_count": 7,
      "metadata": {
       "scrolled": false
      },
      "outputs": [],
      "source": [
       "answer = ar.predict(start=35064, end=35064+4344-1, dynamic=False)"
      ]
     },
     {
      "cell_type": "code",
      "execution_count": 8,
      "metadata": {
       "scrolled": false
      },
      "outputs": [],
      "source": [
       "with open(\"answer.txt\", \"w\") as f:\n",
       "    for v in answer:\n",
       "        f.write(str(v))\n",
       "        f.write('\\n')"
      ]
     }
    ],
    "metadata": {
     "kernelspec": {
      "display_name": "Python 3",
      "language": "python",
      "name": "python3"
     },
     "language_info": {
      "codemirror_mode": {
       "name": "ipython",
       "version": 3
      },
      "file_extension": ".py",
      "mimetype": "text/x-python",
      "name": "python",
      "nbconvert_exporter": "python",
      "pygments_lexer": "ipython3",
      "version": "3.8.10"
     }
    },
    "nbformat": 4,
    "nbformat_minor": 4
   }