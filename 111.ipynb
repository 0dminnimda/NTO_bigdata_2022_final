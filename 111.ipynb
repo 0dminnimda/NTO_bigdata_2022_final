{
 "cells": [
  {
   "cell_type": "code",
   "execution_count": 1,
   "id": "d33ce378",
   "metadata": {},
   "outputs": [],
   "source": [
    "import pandas as pd\n",
    "\n",
    "\n",
    "holidays = pd.read_csv(\"holidays.csv\")\n",
    "data =  pd.read_csv(\"train.csv\")\n",
    "data[['data', 'time']]= data[\"datetime\"].str.split(' ', expand=True)\n",
    "\n",
    "data[\"data\"] = pd.to_datetime(data[\"data\"], format =\"%m/%d/%Y\")\n",
    "data['isHoliday'] = data['data'].dt.date.astype('datetime64').isin(holidays['Date'])\n",
    "data['isHoliday'] = data['isHoliday'].astype(int)\n",
    "data.to_csv('out.csv')\n",
    "\n",
    "\n",
    "\n"
   ]
  }
 ],
 "metadata": {
  "kernelspec": {
   "display_name": "Python 3",
   "language": "python",
   "name": "python3"
  },
  "language_info": {
   "codemirror_mode": {
    "name": "ipython",
    "version": 3
   },
   "file_extension": ".py",
   "mimetype": "text/x-python",
   "name": "python",
   "nbconvert_exporter": "python",
   "pygments_lexer": "ipython3",
   "version": "3.8.8"
  }
 },
 "nbformat": 4,
 "nbformat_minor": 5
}
